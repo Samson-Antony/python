{
  "nbformat": 4,
  "nbformat_minor": 0,
  "metadata": {
    "colab": {
      "name": "Untitled4.ipynb",
      "provenance": [],
      "authorship_tag": "ABX9TyMG9JYpBNvOMrQUszwJABx3",
      "include_colab_link": true
    },
    "kernelspec": {
      "name": "python3",
      "display_name": "Python 3"
    }
  },
  "cells": [
    {
      "cell_type": "markdown",
      "metadata": {
        "id": "view-in-github",
        "colab_type": "text"
      },
      "source": [
        "<a href=\"https://colab.research.google.com/github/Samson-Antony/python/blob/master/slidingwindow.ipynb\" target=\"_parent\"><img src=\"https://colab.research.google.com/assets/colab-badge.svg\" alt=\"Open In Colab\"/></a>"
      ]
    },
    {
      "cell_type": "code",
      "metadata": {
        "id": "akU7S1YP0JQt",
        "outputId": "f9a7c5ca-1642-453e-ab8c-f1eea1af5a12",
        "colab": {
          "base_uri": "https://localhost:8080/",
          "height": 136
        }
      },
      "source": [
        "a=[1, 2, 3, 1, 4, 5, 2, 3, 6]\n",
        "k=3\n",
        "temp=[]\n",
        "n=0\n",
        "t=0\n",
        "while(n<(len(a)-2)):\n",
        "  for i in range(k):\n",
        "    temp.append(a[n+i])\n",
        "  t=t+1\n",
        "  print(max(temp))\n",
        "  temp=[]\n",
        "  n=n+1"
      ],
      "execution_count": 48,
      "outputs": [
        {
          "output_type": "stream",
          "text": [
            "3\n",
            "3\n",
            "4\n",
            "5\n",
            "5\n",
            "5\n",
            "6\n"
          ],
          "name": "stdout"
        }
      ]
    }
  ]
}