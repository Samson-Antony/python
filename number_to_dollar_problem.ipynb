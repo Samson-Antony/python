{
  "nbformat": 4,
  "nbformat_minor": 0,
  "metadata": {
    "colab": {
      "name": "number to word problem.ipynb",
      "provenance": [],
      "collapsed_sections": [],
      "authorship_tag": "ABX9TyP9sPF8yXY+4xx8Au+ZsBaM",
      "include_colab_link": true
    },
    "kernelspec": {
      "name": "python3",
      "display_name": "Python 3"
    }
  },
  "cells": [
    {
      "cell_type": "markdown",
      "metadata": {
        "id": "view-in-github",
        "colab_type": "text"
      },
      "source": [
        "<a href=\"https://colab.research.google.com/github/Samson-Antony/python/blob/master/number_to_dollar_problem.ipynb\" target=\"_parent\"><img src=\"https://colab.research.google.com/assets/colab-badge.svg\" alt=\"Open In Colab\"/></a>"
      ]
    },
    {
      "cell_type": "code",
      "metadata": {
        "colab": {
          "base_uri": "https://localhost:8080/"
        },
        "id": "JWRX6M5M-vFj",
        "outputId": "b933330e-fde3-4d56-d061-7da86e411fc1"
      },
      "source": [
        "one = [ \"\", \"one \", \"two \", \"three \", \"four \", \r\n",
        "        \"five \", \"six \", \"seven \", \"eight \", \r\n",
        "        \"nine \", \"ten \", \"eleven \", \"twelve \", \r\n",
        "        \"thirteen \", \"fourteen \", \"fifteen \", \r\n",
        "        \"sixteen \", \"seventeen \", \"eighteen \", \r\n",
        "        \"nineteen \"]; \r\n",
        "  \r\n",
        "\r\n",
        "ten = [ \"\", \"\", \"twenty \", \"thirty \", \"forty \", \r\n",
        "        \"fifty \", \"sixty \", \"seventy \", \"eighty \", \r\n",
        "        \"ninety \"]; \r\n",
        "  \r\n",
        " \r\n",
        "def numToWords(n, s): \r\n",
        "    str = \"\";  \r\n",
        "    if (n > 19): \r\n",
        "        str += ten[n // 10] + one[n % 10]; \r\n",
        "    else: \r\n",
        "        str += one[n]; \r\n",
        "  \r\n",
        "     \r\n",
        "    if (n): \r\n",
        "        str += s; \r\n",
        "  \r\n",
        "    return str; \r\n",
        "\r\n",
        "def convertToWords(n): \r\n",
        "  \r\n",
        "    \r\n",
        "    out = \"\"; \r\n",
        "  \r\n",
        "    out += numToWords((n // 1000000000)%10,  \r\n",
        "                            \"billions \");\r\n",
        "    out += numToWords((n // 10000000)%10,  \r\n",
        "                            \"hundred \"); \r\n",
        "    out += numToWords((n // 1000000)%10,  \r\n",
        "                            \"million \");  \r\n",
        "    out += numToWords(((n // 100000) % 10), \r\n",
        "                                   \"hundred \"); \r\n",
        "    out += numToWords(((n // 1000) % 100),  \r\n",
        "                             \"thousand \"); \r\n",
        "    out += numToWords(((n // 100) % 10),  \r\n",
        "                            \"hundred \"); \r\n",
        "  \r\n",
        "    if (n > 100 and n % 100): \r\n",
        "        out += \"and \"; \r\n",
        "  \r\n",
        "    \r\n",
        "    out += numToWords((n % 100), \"\"); \r\n",
        "  \r\n",
        "    return out; \r\n",
        "  \r\n",
        " \r\n",
        "number = int(input(\"enter a number \")) \r\n",
        "print(convertToWords(number), end=''); \r\n",
        "print(\"dollars\")\r\n",
        "  "
      ],
      "execution_count": null,
      "outputs": [
        {
          "output_type": "stream",
          "text": [
            "enter a number 1234567\n",
            "one million two hundred thirty four thousand five hundred and sixty seven dollars\n"
          ],
          "name": "stdout"
        }
      ]
    }
  ]
}