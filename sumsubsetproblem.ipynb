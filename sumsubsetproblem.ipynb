{
  "nbformat": 4,
  "nbformat_minor": 0,
  "metadata": {
    "colab": {
      "name": "Untitled4.ipynb",
      "provenance": [],
      "authorship_tag": "ABX9TyMNlMEUQSEX7Dwe2LZYzZK4",
      "include_colab_link": true
    },
    "kernelspec": {
      "name": "python3",
      "display_name": "Python 3"
    }
  },
  "cells": [
    {
      "cell_type": "markdown",
      "metadata": {
        "id": "view-in-github",
        "colab_type": "text"
      },
      "source": [
        "<a href=\"https://colab.research.google.com/github/Samson-Antony/python/blob/master/sumsubsetproblem.ipynb\" target=\"_parent\"><img src=\"https://colab.research.google.com/assets/colab-badge.svg\" alt=\"Open In Colab\"/></a>"
      ]
    },
    {
      "cell_type": "code",
      "metadata": {
        "id": "akU7S1YP0JQt",
        "outputId": "c27a814e-6672-4e15-ec03-354846dd19b4",
        "colab": {
          "base_uri": "https://localhost:8080/",
          "height": 34
        }
      },
      "source": [
        "def equalPartition(arr):\n",
        "    # code here\n",
        "    s = sum(arr)\n",
        "    if s&1: return 0\n",
        "    s = s//2\n",
        "    dp = {0}\n",
        "    for i in arr: \n",
        "        dp.update({x+i for x in dp})\n",
        "        if s in dp: return 1\n",
        "    return 0\n",
        "\n",
        "arr = [1,5,11,5]\n",
        "print(equalPartition(arr))\n"
      ],
      "execution_count": 53,
      "outputs": [
        {
          "output_type": "stream",
          "text": [
            "1\n"
          ],
          "name": "stdout"
        }
      ]
    }
  ]
}