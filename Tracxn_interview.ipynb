{
  "nbformat": 4,
  "nbformat_minor": 0,
  "metadata": {
    "colab": {
      "name": "Untitled42.ipynb",
      "provenance": [],
      "authorship_tag": "ABX9TyPxZ7nyrpFDrrNMDzaTQ+HZ",
      "include_colab_link": true
    },
    "kernelspec": {
      "name": "python3",
      "display_name": "Python 3"
    },
    "language_info": {
      "name": "python"
    }
  },
  "cells": [
    {
      "cell_type": "markdown",
      "metadata": {
        "id": "view-in-github",
        "colab_type": "text"
      },
      "source": [
        "<a href=\"https://colab.research.google.com/github/Samson-Antony/python/blob/master/Tracxn_interview.ipynb\" target=\"_parent\"><img src=\"https://colab.research.google.com/assets/colab-badge.svg\" alt=\"Open In Colab\"/></a>"
      ]
    },
    {
      "cell_type": "code",
      "metadata": {
        "colab": {
          "base_uri": "https://localhost:8080/"
        },
        "id": "fnNjg0CLW4VG",
        "outputId": "9a764042-0878-48c2-c5b7-2e6b5934ac0a"
      },
      "source": [
        "def my_function(word,flag):\n",
        "  result=\"\"\n",
        "  if (flag==1):\n",
        "    for i in range(len(word)):\n",
        "      if i%2==0:\n",
        "        result=result+word[i]   \n",
        "    print(result)\n",
        "  else:\n",
        "     for i in range(len(word)):\n",
        "      if i%2!=0:\n",
        "        result=result+word[i]   \n",
        "     print(result)\n",
        "\n",
        "my_function(\"tracxn\",1)\n",
        "my_function(\"tracxn\",0)"
      ],
      "execution_count": 26,
      "outputs": [
        {
          "output_type": "stream",
          "text": [
            "tax\n",
            "rcn\n"
          ],
          "name": "stdout"
        }
      ]
    },
    {
      "cell_type": "code",
      "metadata": {
        "colab": {
          "base_uri": "https://localhost:8080/"
        },
        "id": "yuzu3I4Bbbxw",
        "outputId": "c201ff3e-e4e7-449a-d3dd-d6c2b61f8907"
      },
      "source": [
        "def my_function():\n",
        "  for i in range (1,100):\n",
        "    if (i%3==0):\n",
        "      if (i%5==0):\n",
        "         print(\"FizzBuzz\")\n",
        "      else:\n",
        "        print(\"Fizz\")\n",
        "        continue\n",
        "      print(\"Fizz\")\n",
        "      continue\n",
        "    if (i%5==0):\n",
        "      if (i%3==0):\n",
        "         print(\"FizzBuzz\")\n",
        "      else:\n",
        "        print(\"Buzz\")\n",
        "        continue\n",
        "    else:\n",
        "      print(i)\n",
        "\n",
        "my_function()"
      ],
      "execution_count": 40,
      "outputs": [
        {
          "output_type": "stream",
          "text": [
            "1\n",
            "2\n",
            "Fizz\n",
            "4\n",
            "Buzz\n",
            "Fizz\n",
            "7\n",
            "8\n",
            "Fizz\n",
            "Buzz\n",
            "11\n",
            "Fizz\n",
            "13\n",
            "14\n",
            "FizzBuzz\n",
            "Fizz\n",
            "16\n",
            "17\n",
            "Fizz\n",
            "19\n",
            "Buzz\n",
            "Fizz\n",
            "22\n",
            "23\n",
            "Fizz\n",
            "Buzz\n",
            "26\n",
            "Fizz\n",
            "28\n",
            "29\n",
            "FizzBuzz\n",
            "Fizz\n",
            "31\n",
            "32\n",
            "Fizz\n",
            "34\n",
            "Buzz\n",
            "Fizz\n",
            "37\n",
            "38\n",
            "Fizz\n",
            "Buzz\n",
            "41\n",
            "Fizz\n",
            "43\n",
            "44\n",
            "FizzBuzz\n",
            "Fizz\n",
            "46\n",
            "47\n",
            "Fizz\n",
            "49\n",
            "Buzz\n",
            "Fizz\n",
            "52\n",
            "53\n",
            "Fizz\n",
            "Buzz\n",
            "56\n",
            "Fizz\n",
            "58\n",
            "59\n",
            "FizzBuzz\n",
            "Fizz\n",
            "61\n",
            "62\n",
            "Fizz\n",
            "64\n",
            "Buzz\n",
            "Fizz\n",
            "67\n",
            "68\n",
            "Fizz\n",
            "Buzz\n",
            "71\n",
            "Fizz\n",
            "73\n",
            "74\n",
            "FizzBuzz\n",
            "Fizz\n",
            "76\n",
            "77\n",
            "Fizz\n",
            "79\n",
            "Buzz\n",
            "Fizz\n",
            "82\n",
            "83\n",
            "Fizz\n",
            "Buzz\n",
            "86\n",
            "Fizz\n",
            "88\n",
            "89\n",
            "FizzBuzz\n",
            "Fizz\n",
            "91\n",
            "92\n",
            "Fizz\n",
            "94\n",
            "Buzz\n",
            "Fizz\n",
            "97\n",
            "98\n",
            "Fizz\n"
          ],
          "name": "stdout"
        }
      ]
    },
    {
      "cell_type": "code",
      "metadata": {
        "colab": {
          "base_uri": "https://localhost:8080/"
        },
        "id": "rUv_-2f6euW2",
        "outputId": "b216cb60-d001-4489-acb6-059aef8d8e09"
      },
      "source": [
        "def fun(arr):\n",
        "  proft=max(arr)-min(arr)\n",
        "  sell=arr.index(max(arr))+1\n",
        "  buy=arr.index(min(arr))+1\n",
        "  print(\"Buy on - Day \"+str(buy)+\" Sell on - Day \"+str(sell)+\" - Profit = \"+str(proft))\n",
        "  \n",
        "\n",
        "a=[100,180,260,310,40,535,695]\n",
        "fun(a)\n"
      ],
      "execution_count": 75,
      "outputs": [
        {
          "output_type": "stream",
          "text": [
            "Buy on - Day 5 Sell on - Day 7 - Profit = 655\n"
          ],
          "name": "stdout"
        }
      ]
    }
  ]
}