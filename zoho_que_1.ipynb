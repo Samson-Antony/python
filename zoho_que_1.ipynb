{
  "nbformat": 4,
  "nbformat_minor": 0,
  "metadata": {
    "colab": {
      "name": "zoho que 1",
      "provenance": [],
      "authorship_tag": "ABX9TyMCYyj5PxGxkcrspK3wyUje",
      "include_colab_link": true
    },
    "kernelspec": {
      "name": "python3",
      "display_name": "Python 3"
    }
  },
  "cells": [
    {
      "cell_type": "markdown",
      "metadata": {
        "id": "view-in-github",
        "colab_type": "text"
      },
      "source": [
        "<a href=\"https://colab.research.google.com/github/Samson-Antony/python/blob/master/zoho_que_1.ipynb\" target=\"_parent\"><img src=\"https://colab.research.google.com/assets/colab-badge.svg\" alt=\"Open In Colab\"/></a>"
      ]
    },
    {
      "cell_type": "code",
      "metadata": {
        "id": "r0_OFAIgNeOp"
      },
      "source": [
        "import numpy\n",
        "import pandas"
      ],
      "execution_count": 1,
      "outputs": []
    },
    {
      "cell_type": "code",
      "metadata": {
        "id": "FJQ7OQ5PNxxn",
        "outputId": "742c3e1f-afb6-489f-9336-abe6e715b474",
        "colab": {
          "base_uri": "https://localhost:8080/",
          "height": 66
        }
      },
      "source": [
        "# Python code for run length encoding \n",
        "from collections import OrderedDict \n",
        "# def runLengthEncoding(): \n",
        "input=\"wwawwaaadexxxxtxxt\"\n",
        "dict=OrderedDict.fromkeys(input, 0)\n",
        "print (dict)\n",
        "for m in input: \n",
        "\tdict[m] += 1\n",
        "  \n",
        "\toutput = '' \n",
        "\n",
        "\tfor key,value in dict.items(): \n",
        "\n",
        "\t\toutput = output + key + str(value)\n",
        "print (dict) \n",
        "print((output)) "
      ],
      "execution_count": 35,
      "outputs": [
        {
          "output_type": "stream",
          "text": [
            "OrderedDict([('w', 0), ('a', 0), ('d', 0), ('e', 0), ('x', 0), ('t', 0)])\n",
            "OrderedDict([('w', 4), ('a', 4), ('d', 1), ('e', 1), ('x', 6), ('t', 1)])\n",
            "w4a4d1e1x6t1\n"
          ],
          "name": "stdout"
        }
      ]
    },
    {
      "cell_type": "code",
      "metadata": {
        "id": "rLcotgoQYIHY",
        "outputId": "65f6627c-45e4-41e3-9b65-6c0876c09cb2",
        "colab": {
          "base_uri": "https://localhost:8080/",
          "height": 33
        }
      },
      "source": [
        "def encode(message): \n",
        "    encoded_message = \"\" \n",
        "    i = 0\n",
        "   \n",
        "    while (i <= len(message)-1): \n",
        "        count = 1\n",
        "        ch = message[i] \n",
        "        j = i \n",
        "        while (j < len(message)-1): \n",
        "            if (message[j] == message[j+1]): \n",
        "                count = count+1\n",
        "                j = j+1\n",
        "            else: \n",
        "                break\n",
        "        encoded_message=encoded_message+str(count)+ch \n",
        "        i = j+1\n",
        "    return encoded_message \n",
        "  \n",
        "#Provide different values for message and test your program \n",
        "encoded_message=encode(\"ABBBBCCCCCCCCAB\") \n",
        "print(encoded_message)"
      ],
      "execution_count": 39,
      "outputs": [
        {
          "output_type": "stream",
          "text": [
            "1A4B8C1A1B\n"
          ],
          "name": "stdout"
        }
      ]
    },
    {
      "cell_type": "code",
      "metadata": {
        "id": "8BlIKvsJbu5R"
      },
      "source": [
        ""
      ],
      "execution_count": null,
      "outputs": []
    }
  ]
}